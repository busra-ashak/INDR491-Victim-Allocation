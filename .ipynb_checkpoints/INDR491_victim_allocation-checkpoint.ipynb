{
 "cells": [
  {
   "cell_type": "code",
   "execution_count": 1,
   "id": "complete-eclipse",
   "metadata": {},
   "outputs": [],
   "source": [
    "import pyomo.environ as pyo\n",
    "from pyomo.environ import *\n",
    "m= pyo.ConcreteModel()"
   ]
  },
  {
   "cell_type": "code",
   "execution_count": 2,
   "id": "controlled-miracle",
   "metadata": {},
   "outputs": [],
   "source": [
    "from Parameters import * \n",
    "db_connection = mysql.connector.connect(\n",
    "host=\"localhost\",\n",
    "user=\"root\",\n",
    "passwd=\"morbius\", # change password\n",
    "auth_plugin='mysql_native_password'\n",
    ")\n",
    "db_cursor = db_connection.cursor(buffered=True)\n",
    "db_cursor.execute(\"USE earthquake\")"
   ]
  },
  {
   "cell_type": "code",
   "execution_count": 3,
   "id": "familiar-wichita",
   "metadata": {},
   "outputs": [],
   "source": [
    "K = Parameters.num_of_immediate(db_cursor) #number of victims with condition 3 (immediate)\n",
    "L = Parameters.num_of_delayed(db_cursor) #number of victims condition 2 (delay)\n",
    "H = Parameters.num_of_hospitals(db_cursor) #operational hospitals\n",
    "victim_dict = Parameters.victim_dict(db_cursor) #all victims\n",
    "immediate_v_id_list, delayed_v_id_list = Parameters.victim_id_lists(victim_dict) #immediate and delayed victim id's\n",
    "hospital_dict = Parameters.hospital_dict(db_cursor) \n",
    "hospital_id_list = Parameters.hospital_id_lists(hospital_dict) \n",
    "neighbourhood_list, hospital_list, distances = Parameters.distances(victim_dict, hospital_dict)\n",
    "bed_capacity_list = Parameters.hospital_bed_capacity_lists(hospital_dict)\n",
    "y_immediate_list, y_delayed_list = Parameters.y_lists(victim_dict) #age\n",
    "t_immediate_list, t_delayed_list = Parameters.t_lists(victim_dict) #time elapsed\n",
    "neighbourhood_immediate_list, neighbourhood_delayed_list = Parameters.neighbourhood_lists(victim_dict) "
   ]
  },
  {
   "cell_type": "markdown",
   "id": "extra-tragedy",
   "metadata": {},
   "source": [
    "##### Variables"
   ]
  },
  {
   "cell_type": "code",
   "execution_count": 4,
   "id": "cardiac-deputy",
   "metadata": {},
   "outputs": [],
   "source": [
    "#x: Binary variable. victim i to hospital j\n",
    "#THE ONLY WAY I COULD FIND TO HAVE 2 INDEXED VARIABLES - DONT QUESTION IT TOO MUCH\n",
    "m.I = pyo.RangeSet(0, len(immediate_v_id_list)-1)\n",
    "m.D = pyo.RangeSet(0, len(delayed_v_id_list)-1)\n",
    "m.J = pyo.RangeSet(0, len(hospital_id_list)-1)\n",
    "\n",
    "m.K = np.ndarray(shape=(len(immediate_v_id_list),len(hospital_id_list)))\n",
    "m.L = np.ndarray(shape=(len(delayed_v_id_list),len(hospital_id_list)))\n",
    "\n",
    "def IJ_rule(m):\n",
    "    return [(i,j) for i in range(len(m.I)) for j in range(len(m.K[i]))]\n",
    "\n",
    "def DJ_rule(m):\n",
    "    return [(d,j) for d in range(len(m.D)) for j in range(len(m.L[d]))]\n",
    "\n",
    "m.immediate = Set(within=m.I*m.J, initialize=IJ_rule)\n",
    "m.immediate_v = Var(m.immediate, within = Binary) #for immediate\n",
    "m.delayed = Set(within=m.D*m.J, initialize=DJ_rule)\n",
    "m.delayed_v = Var(m.delayed, within = Binary) #for delayed"
   ]
  },
  {
   "cell_type": "markdown",
   "id": "inappropriate-exhibit",
   "metadata": {},
   "source": [
    "##### Parameters"
   ]
  },
  {
   "cell_type": "code",
   "execution_count": 5,
   "id": "uniform-economy",
   "metadata": {},
   "outputs": [],
   "source": [
    "c_1 = 5 #constant 1\n",
    "c_2 = 6 #constant 2\n",
    "E = 100 #epsilon"
   ]
  },
  {
   "cell_type": "markdown",
   "id": "lined-clock",
   "metadata": {},
   "source": [
    "##### Objective Function \n"
   ]
  },
  {
   "cell_type": "code",
   "execution_count": 6,
   "id": "traditional-nelson",
   "metadata": {},
   "outputs": [],
   "source": [
    "def obj_rule(m):\n",
    "    immediate = 0\n",
    "    for k in range(K):\n",
    "        for j in range(H):\n",
    "            neighbourhood_index = neighbourhood_list.index(neighbourhood_immediate_list[k])\n",
    "            immediate += c_1*t_immediate_list[k]*y_immediate_list[k]*distances[neighbourhood_index][j]*m.immediate_v[k,j]\n",
    "            \n",
    "    delayed = 0\n",
    "    for l in range(L):\n",
    "        for j in range(H):\n",
    "            neighbourhood_index = neighbourhood_list.index(neighbourhood_delayed_list[l])\n",
    "            delayed += c_2*t_delayed_list[l]*y_delayed_list[l]*distances[neighbourhood_index][j]*m.delayed_v[l,j]\n",
    "            \n",
    "    penalty_immediate = K - sum(m.immediate_v[k,j] for k in range(K) for j in range(H))\n",
    "    \n",
    "    penalty_delayed = L - sum(m.delayed_v[l,j] for l in range(L) for j in range(H))\n",
    "    \n",
    "    return immediate + delayed + E*(c_1*penalty_immediate + c_2*penalty_delayed)\n",
    "\n",
    "m.objective = pyo.Objective(rule=obj_rule, sense=pyo.minimize)"
   ]
  },
  {
   "cell_type": "markdown",
   "id": "curious-bride",
   "metadata": {},
   "source": [
    "##### Constraints"
   ]
  },
  {
   "cell_type": "code",
   "execution_count": 7,
   "id": "documented-tender",
   "metadata": {
    "scrolled": true
   },
   "outputs": [],
   "source": [
    "def bed_capacity_constraint(m, j): \n",
    "    return sum(m.immediate_v[k, j] for k in range(K)) + sum(m.delayed_v[l, j] for l in range(L)) <= bed_capacity_list[j]\n",
    "\n",
    "m.bed_capacity_constraint = pyo.Constraint(range(H), rule = bed_capacity_constraint)"
   ]
  },
  {
   "cell_type": "code",
   "execution_count": 8,
   "id": "damaged-member",
   "metadata": {
    "scrolled": true
   },
   "outputs": [],
   "source": [
    "def allocation_constraint_immediate(m, k): \n",
    "    return sum(m.immediate_v[k, j] for j in range(H) ) <= 1 \n",
    "m.allocation_constraint_immediate = pyo.Constraint(range(K), rule = allocation_constraint_immediate)\n",
    "\n",
    "def allocation_constraint_delayed(m, l): \n",
    "    return sum(m.delayed_v[l, j] for j in range(H) ) <= 1 \n",
    "m.allocation_constraint_delayed = pyo.Constraint(range(L), rule = allocation_constraint_delayed)"
   ]
  },
  {
   "cell_type": "code",
   "execution_count": 11,
   "id": "foster-cologne",
   "metadata": {},
   "outputs": [],
   "source": [
    "if K <= sum(bed_capacity_list):\n",
    "    z = 1\n",
    "else:\n",
    "    z = 0\n",
    "p=0.5"
   ]
  },
  {
   "cell_type": "code",
   "execution_count": 13,
   "id": "formed-owner",
   "metadata": {
    "scrolled": true
   },
   "outputs": [],
   "source": [
    "def immediate_enforce(m): \n",
    "    return sum(m.immediate_v[k, j] for k in range(K) for j in range(H) ) >= z*p*K + (1-z)*p*sum(bed_capacity_list)\n",
    "m.immediate_enforce = pyo.Constraint(rule = immediate_enforce)"
   ]
  },
  {
   "cell_type": "code",
   "execution_count": 15,
   "id": "broadband-intelligence",
   "metadata": {},
   "outputs": [
    {
     "name": "stdout",
     "output_type": "stream",
     "text": [
      "WARNING: Could not locate the 'glpsol' executable, which is required for\n",
      "    solver 'glpk'\n"
     ]
    },
    {
     "ename": "ApplicationError",
     "evalue": "No executable found for solver 'glpk'",
     "output_type": "error",
     "traceback": [
      "\u001b[1;31m---------------------------------------------------------------------------\u001b[0m",
      "\u001b[1;31mApplicationError\u001b[0m                          Traceback (most recent call last)",
      "Cell \u001b[1;32mIn[15], line 2\u001b[0m\n\u001b[0;32m      1\u001b[0m solver \u001b[38;5;241m=\u001b[39m SolverFactory(\u001b[38;5;124m'\u001b[39m\u001b[38;5;124mglpk\u001b[39m\u001b[38;5;124m'\u001b[39m)\n\u001b[1;32m----> 2\u001b[0m solution \u001b[38;5;241m=\u001b[39m \u001b[43msolver\u001b[49m\u001b[38;5;241;43m.\u001b[39;49m\u001b[43msolve\u001b[49m\u001b[43m(\u001b[49m\u001b[43mm\u001b[49m\u001b[43m)\u001b[49m\n\u001b[0;32m      3\u001b[0m m\u001b[38;5;241m.\u001b[39mdisplay()\n",
      "File \u001b[1;32m~\\AppData\\Local\\Programs\\Python\\Python310\\lib\\site-packages\\pyomo\\opt\\base\\solvers.py:513\u001b[0m, in \u001b[0;36mOptSolver.solve\u001b[1;34m(self, *args, **kwds)\u001b[0m\n\u001b[0;32m    510\u001b[0m \u001b[38;5;28;01mdef\u001b[39;00m \u001b[38;5;21msolve\u001b[39m(\u001b[38;5;28mself\u001b[39m, \u001b[38;5;241m*\u001b[39margs, \u001b[38;5;241m*\u001b[39m\u001b[38;5;241m*\u001b[39mkwds):\n\u001b[0;32m    511\u001b[0m \u001b[38;5;250m    \u001b[39m\u001b[38;5;124;03m\"\"\" Solve the problem \"\"\"\u001b[39;00m\n\u001b[1;32m--> 513\u001b[0m     \u001b[38;5;28;43mself\u001b[39;49m\u001b[38;5;241;43m.\u001b[39;49m\u001b[43mavailable\u001b[49m\u001b[43m(\u001b[49m\u001b[43mexception_flag\u001b[49m\u001b[38;5;241;43m=\u001b[39;49m\u001b[38;5;28;43;01mTrue\u001b[39;49;00m\u001b[43m)\u001b[49m\n\u001b[0;32m    514\u001b[0m     \u001b[38;5;66;03m#\u001b[39;00m\n\u001b[0;32m    515\u001b[0m     \u001b[38;5;66;03m# If the inputs are models, then validate that they have been\u001b[39;00m\n\u001b[0;32m    516\u001b[0m     \u001b[38;5;66;03m# constructed! Collect suffix names to try and import from solution.\u001b[39;00m\n\u001b[0;32m    517\u001b[0m     \u001b[38;5;66;03m#\u001b[39;00m\n\u001b[0;32m    518\u001b[0m     \u001b[38;5;28;01mfrom\u001b[39;00m \u001b[38;5;21;01mpyomo\u001b[39;00m\u001b[38;5;21;01m.\u001b[39;00m\u001b[38;5;21;01mcore\u001b[39;00m\u001b[38;5;21;01m.\u001b[39;00m\u001b[38;5;21;01mbase\u001b[39;00m\u001b[38;5;21;01m.\u001b[39;00m\u001b[38;5;21;01mblock\u001b[39;00m \u001b[38;5;28;01mimport\u001b[39;00m _BlockData\n",
      "File \u001b[1;32m~\\AppData\\Local\\Programs\\Python\\Python310\\lib\\site-packages\\pyomo\\opt\\solver\\shellcmd.py:139\u001b[0m, in \u001b[0;36mSystemCallSolver.available\u001b[1;34m(self, exception_flag)\u001b[0m\n\u001b[0;32m    137\u001b[0m     \u001b[38;5;28;01mif\u001b[39;00m exception_flag:\n\u001b[0;32m    138\u001b[0m         msg \u001b[38;5;241m=\u001b[39m \u001b[38;5;124m\"\u001b[39m\u001b[38;5;124mNo executable found for solver \u001b[39m\u001b[38;5;124m'\u001b[39m\u001b[38;5;132;01m%s\u001b[39;00m\u001b[38;5;124m'\u001b[39m\u001b[38;5;124m\"\u001b[39m\n\u001b[1;32m--> 139\u001b[0m         \u001b[38;5;28;01mraise\u001b[39;00m ApplicationError(msg \u001b[38;5;241m%\u001b[39m \u001b[38;5;28mself\u001b[39m\u001b[38;5;241m.\u001b[39mname)\n\u001b[0;32m    140\u001b[0m     \u001b[38;5;28;01mreturn\u001b[39;00m \u001b[38;5;28;01mFalse\u001b[39;00m\n\u001b[0;32m    141\u001b[0m \u001b[38;5;28;01mreturn\u001b[39;00m \u001b[38;5;28;01mTrue\u001b[39;00m\n",
      "\u001b[1;31mApplicationError\u001b[0m: No executable found for solver 'glpk'"
     ]
    }
   ],
   "source": [
    "solver = SolverFactory('glpk')\n",
    "solution = solver.solve(m)\n",
    "m.display()"
   ]
  },
  {
   "cell_type": "code",
   "execution_count": null,
   "id": "b9bd4306",
   "metadata": {},
   "outputs": [],
   "source": []
  }
 ],
 "metadata": {
  "kernelspec": {
   "display_name": "Python 3 (ipykernel)",
   "language": "python",
   "name": "python3"
  },
  "language_info": {
   "codemirror_mode": {
    "name": "ipython",
    "version": 3
   },
   "file_extension": ".py",
   "mimetype": "text/x-python",
   "name": "python",
   "nbconvert_exporter": "python",
   "pygments_lexer": "ipython3",
   "version": "3.10.9"
  }
 },
 "nbformat": 4,
 "nbformat_minor": 5
}
