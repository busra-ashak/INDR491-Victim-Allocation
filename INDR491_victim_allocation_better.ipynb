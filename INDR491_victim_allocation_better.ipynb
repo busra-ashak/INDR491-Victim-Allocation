{
 "cells": [
  {
   "cell_type": "code",
   "execution_count": 1,
   "id": "complete-eclipse",
   "metadata": {},
   "outputs": [],
   "source": [
    "import pyomo.environ as pyo\n",
    "from operator import mul\n",
    "from pyomo.environ import *"
   ]
  },
  {
   "cell_type": "code",
   "execution_count": 2,
   "id": "controlled-miracle",
   "metadata": {},
   "outputs": [],
   "source": [
    "from Parameters import * \n",
    "db_connection = mysql.connector.connect(\n",
    "host=\"localhost\",\n",
    "user=\"root\",\n",
    "passwd=\"root\", # change password\n",
    "auth_plugin='mysql_native_password'\n",
    ")\n",
    "db_cursor = db_connection.cursor(buffered=True)\n",
    "db_cursor.execute(\"USE earthquake\")"
   ]
  },
  {
   "cell_type": "markdown",
   "id": "inappropriate-exhibit",
   "metadata": {},
   "source": [
    "##### Parameters"
   ]
  },
  {
   "cell_type": "code",
   "execution_count": 3,
   "id": "familiar-wichita",
   "metadata": {},
   "outputs": [],
   "source": [
    "def set_victim_parameters(start_time, end_time):\n",
    "    K = Parameters.num_of_immediate(db_cursor, start_time, end_time) #number of victims with condition 3 (immediate)\n",
    "    L = Parameters.num_of_delayed(db_cursor, start_time, end_time) #number of victims condition 2 (delay)\n",
    "    victim_dict = Parameters.victim_dict(db_cursor, start_time, end_time) #all victims\n",
    "    immediate_v_id_list, delayed_v_id_list = Parameters.victim_id_lists(victim_dict) #immediate and delayed victim id's\n",
    "    neighbourhood_list, hospital_list, distances = Parameters.distances(victim_dict, hospital_dict)\n",
    "    y_immediate_list, y_delayed_list = Parameters.y_lists(victim_dict) #age\n",
    "    t_immediate_list, t_delayed_list = Parameters.t_lists(victim_dict) #time elapsed\n",
    "    neighbourhood_immediate_list, neighbourhood_delayed_list = Parameters.neighbourhood_lists(victim_dict)\n",
    "    return K, L, victim_dict, immediate_v_id_list, delayed_v_id_list, neighbourhood_list, hospital_list,\\\n",
    "            distances, y_immediate_list, y_delayed_list, t_immediate_list, t_delayed_list, \\\n",
    "            neighbourhood_immediate_list, neighbourhood_delayed_list"
   ]
  },
  {
   "cell_type": "markdown",
   "id": "extra-tragedy",
   "metadata": {},
   "source": [
    "##### Variables"
   ]
  },
  {
   "cell_type": "code",
   "execution_count": 4,
   "id": "cardiac-deputy",
   "metadata": {},
   "outputs": [],
   "source": [
    "def set_variables(immediate_v_id_list, delayed_v_id_list):\n",
    "    #x: Binary variable. victim i to hospital j\n",
    "    #THE ONLY WAY I COULD FIND TO HAVE 2 INDEXED VARIABLES - DONT QUESTION IT TOO MUCH\n",
    "    m.I = pyo.RangeSet(0, len(immediate_v_id_list)-1)\n",
    "    m.D = pyo.RangeSet(0, len(delayed_v_id_list)-1)\n",
    "    m.J = pyo.RangeSet(0, len(hospital_id_list)-1)\n",
    "\n",
    "    m.K = np.ndarray(shape=(len(immediate_v_id_list),len(hospital_id_list)))\n",
    "    m.L = np.ndarray(shape=(len(delayed_v_id_list),len(hospital_id_list)))\n",
    "\n",
    "    def IJ_rule(m):\n",
    "        return [(i,j) for i in range(len(m.I)) for j in range(len(m.K[i]))]\n",
    "\n",
    "    def DJ_rule(m):\n",
    "        return [(d,j) for d in range(len(m.D)) for j in range(len(m.L[d]))]\n",
    "\n",
    "    m.immediate = Set(within=m.I*m.J, initialize=IJ_rule)\n",
    "    m.immediate_v = Var(m.immediate, within = Binary) #for immediate\n",
    "    m.delayed = Set(within=m.D*m.J, initialize=DJ_rule)\n",
    "    m.delayed_v = Var(m.delayed, within = Binary) #for delayed"
   ]
  },
  {
   "cell_type": "markdown",
   "id": "lined-clock",
   "metadata": {},
   "source": [
    "##### Objective Function \n"
   ]
  },
  {
   "cell_type": "code",
   "execution_count": 5,
   "id": "traditional-nelson",
   "metadata": {},
   "outputs": [],
   "source": [
    "def obj_rule(m):\n",
    "    immediate = 0\n",
    "    for k in range(K):\n",
    "        for j in range(H):\n",
    "            neighbourhood_index = neighbourhood_list.index(neighbourhood_immediate_list[k])\n",
    "            immediate += c_1*t_immediate_list[k]*y_immediate_list[k]*distances[neighbourhood_index][j]*m.immediate_v[k,j]\n",
    "            \n",
    "    delayed = 0\n",
    "    for l in range(L):\n",
    "        for j in range(H):\n",
    "            neighbourhood_index = neighbourhood_list.index(neighbourhood_delayed_list[l])\n",
    "            delayed += c_2*t_delayed_list[l]*y_delayed_list[l]*distances[neighbourhood_index][j]*m.delayed_v[l,j]\n",
    "            \n",
    "    penalty_immediate = K - sum(m.immediate_v[k,j] for k in range(K) for j in range(H))\n",
    "    \n",
    "    penalty_delayed = L - sum(m.delayed_v[l,j] for l in range(L) for j in range(H))\n",
    "    \n",
    "    return immediate + delayed + E*(c_1*penalty_immediate + c_2*penalty_delayed)"
   ]
  },
  {
   "cell_type": "markdown",
   "id": "curious-bride",
   "metadata": {},
   "source": [
    "##### Constraints"
   ]
  },
  {
   "cell_type": "code",
   "execution_count": 6,
   "id": "documented-tender",
   "metadata": {
    "scrolled": true
   },
   "outputs": [],
   "source": [
    "def bed_capacity_constraint(m, j):\n",
    "    return sum(m.immediate_v[k, j] for k in range(K)) + sum(m.delayed_v[l, j] for l in range(L)) <= leftover_bed_capacity_list[j]"
   ]
  },
  {
   "cell_type": "code",
   "execution_count": 7,
   "id": "damaged-member",
   "metadata": {
    "scrolled": true
   },
   "outputs": [],
   "source": [
    "def allocation_constraint_immediate(m, k):\n",
    "    return sum(m.immediate_v[k, j] for j in range(H) ) <= 1 \n",
    "\n",
    "def allocation_constraint_delayed(m, l):\n",
    "    return sum(m.delayed_v[l, j] for j in range(H) ) <= 1"
   ]
  },
  {
   "cell_type": "code",
   "execution_count": 8,
   "id": "2e358bca",
   "metadata": {},
   "outputs": [],
   "source": [
    "def update_bed_capacity(bed_capacity_list):\n",
    "    for j in range(H):\n",
    "        assigned_immediate = sum(pyo.value(m.immediate_v[k,j]) for k in range(K))\n",
    "        assigned_delayed = sum(pyo.value(m.delayed_v[l,j]) for l in range(L))    \n",
    "        bed_capacity_list[j] -= assigned_immediate + assigned_delayed"
   ]
  },
  {
   "cell_type": "code",
   "execution_count": 9,
   "id": "broadband-intelligence",
   "metadata": {},
   "outputs": [],
   "source": [
    "def solve():\n",
    "    solver = SolverFactory('glpk')\n",
    "    solution = solver.solve(m)\n",
    "    unassigned_immediate = K - sum(pyo.value(m.immediate_v[k,j]) for k in range(K) for j in range(H))\n",
    "    assigned_immediate = sum(pyo.value(m.immediate_v[k,j]) for k in range(K) for j in range(H))\n",
    "    unassigned_delayed = L - sum(pyo.value(m.delayed_v[l,j]) for l in range(L) for j in range(H))\n",
    "    assigned_delayed = sum(pyo.value(m.delayed_v[l,j]) for l in range(L) for j in range(H))\n",
    "    objective_value = pyo.value(m.objective)\n",
    "    update_bed_capacity(leftover_bed_capacity_list)\n",
    "    return unassigned_immediate, assigned_immediate, unassigned_delayed, assigned_delayed, \\\n",
    "            objective_value\n",
    "    "
   ]
  },
  {
   "cell_type": "code",
   "execution_count": 10,
   "id": "1b785898",
   "metadata": {},
   "outputs": [],
   "source": [
    "def solve_model_periodically(start_time, end_time, bed_capacity_list):    \n",
    "    global K, L, victim_dict, immediate_v_id_list, delayed_v_id_list, neighbourhood_list, hospital_list, distances,\\\n",
    "    y_immediate_list, y_delayed_list, t_immediate_list, t_delayed_list, neighbourhood_immediate_list,\\\n",
    "    neighbourhood_delayed_list\n",
    "    K, L, victim_dict, immediate_v_id_list, delayed_v_id_list, neighbourhood_list, hospital_list, distances,\\\n",
    "    y_immediate_list, y_delayed_list, t_immediate_list, t_delayed_list, neighbourhood_immediate_list,\\\n",
    "    neighbourhood_delayed_list = set_victim_parameters(start_time, end_time)\n",
    "    set_variables(immediate_v_id_list, delayed_v_id_list)\n",
    "    print(\"victims\",K,\" \",L)\n",
    "    print(\"current_capacity\",bed_capacity_list)\n",
    "    #more parameters\n",
    "    global E, c_1, c_2\n",
    "    c_1 = 1.01 #condition: immediate\n",
    "    c_2 = 1 #condition: delayed\n",
    "    #epsilon value is calculated as the average of the coefficients of the x_ij's in order to make the penalty meaningful\n",
    "    E = (c_2*sum(map(mul, y_immediate_list, t_immediate_list)) + c_1*sum(map(mul, y_delayed_list, t_delayed_list)))/(c_1+c_2)\n",
    "    m.objective = pyo.Objective(rule=obj_rule, sense=pyo.minimize)\n",
    "    m.bed_capacity_constraint = pyo.Constraint(range(H), rule = bed_capacity_constraint)\n",
    "    m.allocation_constraint_immediate = pyo.Constraint(range(K), rule = allocation_constraint_immediate)\n",
    "    m.allocation_constraint_delayed = pyo.Constraint(range(L), rule = allocation_constraint_delayed)\n",
    "    return solve()"
   ]
  },
  {
   "cell_type": "code",
   "execution_count": 11,
   "id": "7ffeac8e",
   "metadata": {},
   "outputs": [],
   "source": [
    "#only queried once\n",
    "H = Parameters.num_of_hospitals(db_cursor) #operational hospitals\n",
    "hospital_dict = Parameters.hospital_dict(db_cursor) \n",
    "hospital_id_list = Parameters.hospital_id_lists(hospital_dict)\n",
    "leftover_bed_capacity_list = Parameters.hospital_bed_capacity_lists(hospital_dict)\n",
    "records = {}\n",
    "def record_of_allocation(time_interval):\n",
    "    global leftover_bed_capacity_list\n",
    "    global m\n",
    "    i = 0\n",
    "    while sum(leftover_bed_capacity_list):\n",
    "        start_time = i*time_interval\n",
    "        end_time = (i+1)*time_interval\n",
    "        m = pyo.ConcreteModel()\n",
    "        unassigned_immediate, assigned_immediate, unassigned_delayed, assigned_delayed, \\\n",
    "        objective_value = solve_model_periodically(start_time, end_time, leftover_bed_capacity_list)\n",
    "        \n",
    "        records[i] = {\"Unassigned immediate\": unassigned_immediate, \"Assigned immediate\": assigned_immediate, \\\n",
    "                    \"Unassigned delayed\": unassigned_delayed, \"Assigned delayed\": assigned_delayed, \\\n",
    "                    \"Objective value\": objective_value}\n",
    "        i += 1\n",
    "    return records"
   ]
  },
  {
   "cell_type": "code",
   "execution_count": 12,
   "id": "26e3a6e1",
   "metadata": {
    "scrolled": false
   },
   "outputs": [
    {
     "name": "stdout",
     "output_type": "stream",
     "text": [
      "victims 32   126\n",
      "current_capacity [103, 30, 70, 40, 40, 40, 400, 120]\n",
      "victims 38   216\n",
      "current_capacity [45.0, 30.0, 70.0, 0.0, 6.0, 14.0, 400.0, 120.0]\n",
      "victims 49   272\n",
      "current_capacity [0.0, 0.0, 0.0, 0.0, 0.0, 0.0, 314.0, 117.0]\n",
      "victims 69   286\n",
      "current_capacity [0.0, 0.0, 0.0, 0.0, 0.0, 0.0, 4.0, 106.0]\n",
      "Iteration: 0 \tInfo: {'Unassigned immediate': 0.0, 'Assigned immediate': 32.0, 'Unassigned delayed': 0.0, 'Assigned delayed': 126.0, 'Objective value': 32670.53954883583}\n",
      "Iteration: 1 \tInfo: {'Unassigned immediate': 0.0, 'Assigned immediate': 38.0, 'Unassigned delayed': 0.0, 'Assigned delayed': 216.0, 'Objective value': 534870.8150844567}\n",
      "Iteration: 2 \tInfo: {'Unassigned immediate': 0.0, 'Assigned immediate': 49.0, 'Unassigned delayed': 0.0, 'Assigned delayed': 272.0, 'Objective value': 2687414.1115804156}\n",
      "Iteration: 3 \tInfo: {'Unassigned immediate': 40.0, 'Assigned immediate': 29.0, 'Unassigned delayed': 205.0, 'Assigned delayed': 81.0, 'Objective value': 128082089.38423555}\n",
      "148.0 695.0\n"
     ]
    }
   ],
   "source": [
    "result = record_of_allocation(20)\n",
    "total_immediate = 0\n",
    "total_delayed = 0\n",
    "for key,value in result.items():\n",
    "    print(\"Iteration:\", key, \"\\tInfo:\", value)\n",
    "    total_immediate += value['Assigned immediate']\n",
    "    total_delayed += value['Assigned delayed']\n",
    "print(total_immediate, total_delayed)"
   ]
  },
  {
   "cell_type": "code",
   "execution_count": null,
   "id": "24aaef27",
   "metadata": {},
   "outputs": [],
   "source": []
  }
 ],
 "metadata": {
  "kernelspec": {
   "display_name": "Python 3 (ipykernel)",
   "language": "python",
   "name": "python3"
  },
  "language_info": {
   "codemirror_mode": {
    "name": "ipython",
    "version": 3
   },
   "file_extension": ".py",
   "mimetype": "text/x-python",
   "name": "python",
   "nbconvert_exporter": "python",
   "pygments_lexer": "ipython3",
   "version": "3.10.9"
  }
 },
 "nbformat": 4,
 "nbformat_minor": 5
}
